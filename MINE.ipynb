{
 "cells": [
  {
   "cell_type": "code",
   "execution_count": 1,
   "metadata": {},
   "outputs": [],
   "source": [
    "import torch\n",
    "import torch.nn as nn\n",
    "import numpy as np\n",
    "\n",
    "class Net(nn.Module):\n",
    "    def __init__(self, xz_dim, layers):\n",
    "        super(Net, self).__init__()\n",
    "        self.xz_dim = xz_dim\n",
    "        \n",
    "        modules = [nn.Linear(xz_dim, layers[0]), nn.ReLU()]\n",
    "        \n",
    "        prev_layer = layers[0]\n",
    "        for layer in layers[1:]:\n",
    "            modules.append(nn.Linear(prev_layer,layer))\n",
    "            modules.append(nn.ReLU())\n",
    "            prev_layer = layer\n",
    "        \n",
    "        modules.append(nn.Linear(prev_layer, 1))\n",
    "        self.linears = nn.Sequential(*modules)\n",
    "           \n",
    "    def forward(self, xz, z):\n",
    "\n",
    "        h = self.linears(xz)\n",
    "        x = xz[:,0].unsqueeze(1)\n",
    "        xz_2 = torch.cat((x,z),1)\n",
    "        h2 = self.linears(xz_2)\n",
    "        return h, h2\n",
    "    \n"
   ]
  },
  {
   "cell_type": "code",
   "execution_count": 13,
   "metadata": {},
   "outputs": [
    {
     "name": "stdout",
     "output_type": "stream",
     "text": [
      "Epoch: 0 - MI: 0.0007793232798576355 - Theoretical: 0.047155339735620645\n",
      "Epoch: 30 - MI: 0.04723343998193741 - Theoretical: 0.047155339735620645\n",
      "Epoch: 60 - MI: 0.04544950649142265 - Theoretical: 0.047155339735620645\n",
      "Epoch: 90 - MI: 0.052031539380550385 - Theoretical: 0.047155339735620645\n",
      "Epoch: 120 - MI: 0.04672890156507492 - Theoretical: 0.047155339735620645\n",
      "Epoch: 150 - MI: 0.048797693103551865 - Theoretical: 0.047155339735620645\n",
      "Epoch: 180 - MI: 0.04879845306277275 - Theoretical: 0.047155339735620645\n",
      "Epoch: 210 - MI: 0.04728664457798004 - Theoretical: 0.047155339735620645\n",
      "Epoch: 240 - MI: 0.050238437950611115 - Theoretical: 0.047155339735620645\n",
      "Epoch: 270 - MI: 0.04741550609469414 - Theoretical: 0.047155339735620645\n",
      "Epoch: 300 - MI: 0.04946392774581909 - Theoretical: 0.047155339735620645\n"
     ]
    }
   ],
   "source": [
    "\n",
    "n = 10000\n",
    "corr = 0.3\n",
    "theo = -0.5 * np.log(1 - np.square(corr))\n",
    "cov = np.array([[1,corr],[corr,1]])\n",
    "xz = np.random.multivariate_normal(mean = [0,0], cov = cov, size = n)\n",
    "z = np.random.normal(0, scale = 1, size = n)[:,None]\n",
    "layers = [32,16]\n",
    "net = Net(xz.shape[-1], layers)\n",
    "\n",
    "epochs = 300\n",
    "batch_size = 1000\n",
    "display_step = epochs // 10\n",
    "\n",
    "opt = torch.optim.Adam(net.parameters(), lr = 1e-3)\n",
    "for epoch in range(epochs+1):\n",
    "    \n",
    "    loss_mu = 0\n",
    "    \n",
    "    for i in range(n // batch_size):\n",
    "        opt.zero_grad()\n",
    "        \n",
    "        xz_b = torch.from_numpy(xz[i * batch_size : (i+1) * batch_size]).float()\n",
    "        z_b = xz_b[torch.randperm(len(xz_b)),1].unsqueeze(1)\n",
    "    \n",
    "        h_i,z_i = net(xz_b, z_b)\n",
    "       \n",
    "         \n",
    "        loss = -torch.mean(h_i)+torch.log(torch.mean(torch.exp(z_i)))\n",
    "        loss.backward()\n",
    "        opt.step()\n",
    "        loss_mu += loss\n",
    "    loss_mu /= (n//batch_size)\n",
    "    if epoch % display_step == 0:\n",
    "        print(\"Epoch: {} - MI: {} - Theoretical: {}\".format(epoch, -loss_mu, theo))"
   ]
  },
  {
   "cell_type": "code",
   "execution_count": 35,
   "metadata": {},
   "outputs": [],
   "source": []
  },
  {
   "cell_type": "code",
   "execution_count": 58,
   "metadata": {},
   "outputs": [
    {
     "data": {
      "text/plain": [
       "torch.Size([100, 2])"
      ]
     },
     "execution_count": 58,
     "metadata": {},
     "output_type": "execute_result"
    }
   ],
   "source": []
  },
  {
   "cell_type": "code",
   "execution_count": null,
   "metadata": {},
   "outputs": [],
   "source": []
  }
 ],
 "metadata": {
  "kernelspec": {
   "display_name": "Python [conda env:torch]",
   "language": "python",
   "name": "conda-env-torch-py"
  },
  "language_info": {
   "codemirror_mode": {
    "name": "ipython",
    "version": 3
   },
   "file_extension": ".py",
   "mimetype": "text/x-python",
   "name": "python",
   "nbconvert_exporter": "python",
   "pygments_lexer": "ipython3",
   "version": "3.6.7"
  }
 },
 "nbformat": 4,
 "nbformat_minor": 2
}
