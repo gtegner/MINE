{
 "cells": [
  {
   "cell_type": "code",
   "execution_count": 1,
   "metadata": {},
   "outputs": [],
   "source": [
    "import torch\n",
    "import torch.nn as nn\n",
    "import numpy as np\n",
    "\n",
    "class Net(nn.Module):\n",
    "    def __init__(self, xz_dim, layers):\n",
    "        super(Net, self).__init__()\n",
    "        self.xz_dim = xz_dim\n",
    "        \n",
    "        modules = [nn.Linear(xz_dim, layers[0]), nn.ReLU()]\n",
    "        \n",
    "        prev_layer = layers[0]\n",
    "        for layer in layers[1:]:\n",
    "            modules.append(nn.Linear(prev_layer,layer))\n",
    "            modules.append(nn.ReLU())\n",
    "            prev_layer = layer\n",
    "        \n",
    "        modules.append(nn.Linear(prev_layer, 1))\n",
    "        self.linears = nn.Sequential(*modules)\n",
    "           \n",
    "    def forward(self, xz, z):\n",
    "\n",
    "        h = self.linears(xz)\n",
    "        x = xz[:,0].unsqueeze(1)\n",
    "        xz_2 = torch.cat((x,z),1)\n",
    "        h2 = self.linears(xz_2)\n",
    "        return h, h2\n",
    "    \n"
   ]
  },
  {
   "cell_type": "code",
   "execution_count": 33,
   "metadata": {},
   "outputs": [
    {
     "name": "stdout",
     "output_type": "stream",
     "text": [
      "1/20\n",
      "MI: 1.632 - Actual: 1.959\n",
      "2/20\n",
      "MI: 0.725 - Actual: 0.768\n",
      "3/20\n",
      "MI: 0.447 - Actual: 0.472\n",
      "4/20\n",
      "MI: 0.299 - Actual: 0.307\n",
      "5/20\n",
      "MI: 0.170 - Actual: 0.199\n",
      "6/20\n",
      "MI: 0.116 - Actual: 0.124\n",
      "7/20\n",
      "MI: 0.056 - Actual: 0.071\n",
      "8/20\n",
      "MI: 0.029 - Actual: 0.035\n",
      "9/20\n",
      "MI: 0.005 - Actual: 0.012\n",
      "10/20\n",
      "MI: 0.006 - Actual: 0.001\n",
      "11/20\n",
      "MI: 0.005 - Actual: 0.001\n",
      "12/20\n",
      "MI: 0.001 - Actual: 0.012\n",
      "13/20\n",
      "MI: 0.047 - Actual: 0.035\n",
      "14/20\n",
      "MI: 0.095 - Actual: 0.071\n",
      "15/20\n",
      "MI: 0.136 - Actual: 0.124\n",
      "16/20\n",
      "MI: 0.177 - Actual: 0.199\n",
      "17/20\n",
      "MI: 0.342 - Actual: 0.307\n",
      "18/20\n",
      "MI: 0.485 - Actual: 0.472\n",
      "19/20\n",
      "MI: 0.700 - Actual: 0.768\n",
      "20/20\n",
      "MI: 1.635 - Actual: 1.959\n"
     ]
    }
   ],
   "source": [
    "\n",
    "n = 2000\n",
    "\n",
    "corrs = np.linspace(-0.99, 0.99, 20)\n",
    "theos = []\n",
    "mines = []\n",
    "for j,corr in enumerate(corrs):\n",
    "    theo = -0.5 * np.log(1 - np.square(corr))\n",
    "    cov = np.array([[1,corr],[corr,1]])\n",
    "    xz = np.random.multivariate_normal(mean = [0,0], cov = cov, size = n)\n",
    "    z = np.random.normal(0, scale = 1, size = n)[:,None]\n",
    "    layers = [32,16]\n",
    "    net = Net(xz.shape[-1], layers)\n",
    "\n",
    "    epochs = 50\n",
    "    batch_size = 256\n",
    "    display_step = epochs // 2\n",
    "\n",
    "    opt = torch.optim.Adam(net.parameters(), lr = 1e-3)\n",
    "    for epoch in range(epochs+1):\n",
    "\n",
    "        loss_mu = 0\n",
    "\n",
    "        for i in range(n // batch_size):\n",
    "            opt.zero_grad()\n",
    "\n",
    "            xz_b = torch.from_numpy(xz[i * batch_size : (i+1) * batch_size]).float()\n",
    "            z_b = xz_b[torch.randperm(len(xz_b)),1].unsqueeze(1)\n",
    "\n",
    "            h_i,z_i = net(xz_b, z_b)\n",
    "\n",
    "\n",
    "            loss = -torch.mean(h_i)+torch.log(torch.mean(torch.exp(z_i)))\n",
    "            loss.backward()\n",
    "            opt.step()\n",
    "            loss_mu += loss\n",
    "        loss_mu /= (n//batch_size)\n",
    "        #if epoch % display_step == 0:\n",
    "            #print(\"MI: {0:.3f}\".format(-loss_mu))\n",
    "            #print(\"Actual: {0:.3f}\".format(theo))\n",
    "            \n",
    "    theos.append((corr, theo))\n",
    "    mines.append((corr, -loss_mu))\n",
    "    print(\"{}/{}\".format(j+1,len(corrs)))\n",
    "    print(\"MI: {0:.3f} - Actual: {1:.3f}\".format(-loss_mu, theo))\n",
    "    #print(\"Actual: {0:.3f}\".format(theo))\n",
    "theos = np.array(theos)\n",
    "mines = np.array(mines)"
   ]
  },
  {
   "cell_type": "markdown",
   "metadata": {},
   "source": []
  },
  {
   "cell_type": "code",
   "execution_count": 35,
   "metadata": {},
   "outputs": [
    {
     "data": {
      "text/plain": [
       "<matplotlib.legend.Legend at 0x7f903f0c4160>"
      ]
     },
     "execution_count": 35,
     "metadata": {},
     "output_type": "execute_result"
    },
    {
     "data": {
      "image/png": "[encoded data removed]",
      "text/plain": [
       "<Figure size 432x288 with 1 Axes>"
      ]
     },
     "metadata": {
      "needs_background": "light"
     },
     "output_type": "display_data"
    }
   ],
   "source": [
    "import matplotlib.pyplot as plt\n",
    "%matplotlib inline\n",
    "plt.plot(theos[:,0],theos[:,1], label = 'Actual')\n",
    "plt.plot(mines[:,0], mines[:,1], label = 'MINE')\n",
    "plt.legend()"
   ]
  },
  {
   "cell_type": "code",
   "execution_count": null,
   "metadata": {},
   "outputs": [],
   "source": []
  },
  {
   "cell_type": "code",
   "execution_count": null,
   "metadata": {},
   "outputs": [],
   "source": []
  }
 ],
 "metadata": {
  "kernelspec": {
   "display_name": "Python [conda env:torch]",
   "language": "python",
   "name": "conda-env-torch-py"
  },
  "language_info": {
   "codemirror_mode": {
    "name": "ipython",
    "version": 3
   },
   "file_extension": ".py",
   "mimetype": "text/x-python",
   "name": "python",
   "nbconvert_exporter": "python",
   "pygments_lexer": "ipython3",
   "version": "3.6.7"
  }
 },
 "nbformat": 4,
 "nbformat_minor": 2
}
